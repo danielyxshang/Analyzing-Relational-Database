{
 "cells": [
  {
   "cell_type": "markdown",
   "metadata": {},
   "source": [
    "# Analyzing Relational Database (SQL)"
   ]
  },
  {
   "cell_type": "markdown",
   "metadata": {},
   "source": [
    "## 1. Remove duplicate records And Identify Primary Keys"
   ]
  },
  {
   "cell_type": "code",
   "execution_count": null,
   "metadata": {},
   "outputs": [],
   "source": [
    "import pymysql\n",
    "pymysql.install_as_MySQLdb()\n",
    "%reload_ext sql\n",
    "%local_host_address\n",
    "%sql USE data_base_name;"
   ]
  },
  {
   "cell_type": "code",
   "execution_count": null,
   "metadata": {},
   "outputs": [],
   "source": [
    "# To check if a table has duplicate records, I used the following code. If the two counts return the same number, we can confirm that all the records are unique. However, if\n",
    "## the two counts return different numbers, we know that there are duplicates.\n",
    "%%sql\n",
    "SELECT COUNT(*)\n",
    "FROM table_1\n",
    "\n",
    "SELECT COUNT(*)\n",
    "FROM (SELECT DISTINCT * FROM table_1) AS SubQ"
   ]
  },
  {
   "cell_type": "code",
   "execution_count": null,
   "metadata": {},
   "outputs": [],
   "source": [
    "#To figure out which column can help uniquely identify records, I researched the documentation of the database and tried different combination of columns using the\n",
    "## following code. If the COUNT(*) within each group is equal to one, we know that the columns selected uniquely identify each row.\n",
    "%%sql\n",
    "WITH CTE1 AS (SELECT DISTINCT * FROM table_1)\n",
    "    SELECT column_1, column_2, COUNT(*)\n",
    "    FROM CTE1\n",
    "    GROUP BY column_1, column_2\n",
    "    ORDER BY COUNT(*) DESC\n",
    "    LIMIT 10;"
   ]
  },
  {
   "cell_type": "code",
   "execution_count": null,
   "metadata": {},
   "outputs": [],
   "source": [
    "# Based on the code in previous chunk, I identified those columns that, when combined, can uniquely identify each row. They are also known as the primary keys.\n",
    "## Partitioned by these columns, I assigned each row a number and removed the duplicates based on the number.\n",
    "%%sql\n",
    "WITH CTE1 AS (SELECT *, ROW_NUMBER() OVER(PARTITION BY column_1, column_2) AS RowNum FROM table_1)\n",
    "    SELECT *\n",
    "    FROM CTE1\n",
    "    WHERE RowNum = 1;"
   ]
  },
  {
   "cell_type": "markdown",
   "metadata": {},
   "source": [
    "## 2. Searching for Potential Issues in the Database"
   ]
  },
  {
   "cell_type": "code",
   "execution_count": null,
   "metadata": {},
   "outputs": [],
   "source": [
    "# To check if there is any NULL value within a column\n",
    "%%sql\n",
    "WITH CTE1 AS\n",
    "    (SELECT DISTINCT * FROM table_1)\n",
    "SELECT column_1\n",
    "FROM CTE1\n",
    "WHERE column_1 IS NULL;\n",
    "\n",
    "# To group the values within a column and check the count of each group. This helps to identify if tthe count distribution is abnormal\n",
    "WITH CTE1 AS\n",
    "    (SELECT DISTINCT * FROM table_1)\n",
    "SELECT column_1, COUNT(*)\n",
    "FROM CTE1\n",
    "GROUP BY column_1\n",
    "ORDER BY COUNT(*) DESC;\n",
    "\n",
    "# To check the maximum and minimum value of a column. When there are too many distinct category within a column, using this method is more efficient\n",
    "SELECT MAX(column_1), MIN(column_1)\n",
    "FROM table_1;\n",
    "\n",
    "# If there is two datetime type column, one denoted in minutes and another denoted in days, we can convert one of them to see if the two are equal to each other\n",
    "SELECT *\n",
    "FROM table_1\n",
    "WHERE ((period_days > period_minutes / 60 / 24 + 1)\n",
    "    OR (period_days < period_minutes / 60 / 24 - 1));\n",
    "\n",
    "# If some values within column are mistyped and have extra sign, say \"@\" , at the beginning, we remove these sign to avoid double-counting\n",
    "SELECT *, CASE WHEN SUBSTR(column_1, 1, 1) = '@' column_1 = SUBSTR(column_1, 2) ELSE column_1 END AS corrected_column_1\n",
    "FROM table_1;"
   ]
  },
  {
   "cell_type": "markdown",
   "metadata": {},
   "source": [
    "## 3. Summarize the data"
   ]
  },
  {
   "cell_type": "code",
   "execution_count": null,
   "metadata": {},
   "outputs": [],
   "source": [
    "# Remove duplicates in table_1 and store the values in CTE2, then summarize the data in CTE2 to show the structure of customer base and since when have they stayed\n",
    "## with the company\n",
    "%%sql\n",
    "WITH\n",
    "CTE1 AS\n",
    "    (SELECT DISTINCT *\n",
    "     FROM table_1),\n",
    "CTE2 AS\n",
    "    (SELECT CTE1.*\n",
    "     FROM CTE1 LEFT JOIN\n",
    "    (SELECT CTE1.column_1, COUNT(*)\n",
    "          FROM table_1\n",
    "          GROUP BY CTE1. column_1\n",
    "          HAVING COUNT(*) > 1) \n",
    "    AS SubQ\n",
    "     ON CTE1.column_1 = SubQ.column_1\n",
    "     WHERE SubQ.column_1 IS NULL\n",
    "         OR\n",
    "     (SubQ.column_1 IS NOT NULL AND SubQ.column_2 != 'value_1')\n",
    "SELECT\n",
    "     YEAR(column_3) AS Year,\n",
    "     MONTH(column_3) AS Month,\n",
    "     COUNT(*) AS Rec_Num,\n",
    "     SUM(CASE WHEN column_4 = 'value_2' THEN 1 ELSE 0 END) / COUNT(*) AS Percentage\n",
    "FROM\n",
    "    CTE2\n",
    "WHERE\n",
    "     column_5 != 'value_3'\n",
    "GROUP BY\n",
    "     Year,\n",
    "     Month\n",
    "ORDER BY\n",
    "     Year,\n",
    "     Month;"
   ]
  },
  {
   "cell_type": "code",
   "execution_count": null,
   "metadata": {},
   "outputs": [],
   "source": [
    "# Check the discrepancy between one column from a table and one calculated column based on information from another table to get a better understanding of the dataset\n",
    "%%sql\n",
    "WITH CTE1 AS (SELECT DISTINCT * FROM table_1),\n",
    "            CTE2 AS (SELECT column_1_a, COUNT(*) FROM CTE1 GROUP BY column_1_a)\n",
    "SELECT CTE2.column_1_a, table_2.column_1_b, CTE2.COUNT(*), table_2.column_2\n",
    "FROM table_2 LEFT JOIN CTE2 ON table_2.column_1_b = CTE2.column_1_a\n",
    "WHERE CTE2.COUNT(*) != CAST(table_2.column_2 AS INT);"
   ]
  },
  {
   "cell_type": "code",
   "execution_count": null,
   "metadata": {},
   "outputs": [],
   "source": [
    "# Combine three tables and summarize the data to illustrate company's performance over each month within each year\n",
    "%%sql\n",
    "WITH\n",
    "CTE1 AS (SELECT DISTINCT *\n",
    "                 FROM table)1,\n",
    "CTE2 AS (SELECT CTE1.*\n",
    "                 FROM CTE1\n",
    "                      LEFT JOIN (SELECT column_1, COUNT(*) FROM CTE1 GROUP BY column_1 HAVING COUNT(*) > 1) AS SubQ1\n",
    "                     ON CTE1.column_1 = SubQ1.column_1\n",
    "                 WHERE SubQ1.column_1 IS NULL\n",
    "                 OR SubQ1.column_1 IS NOT NULL\n",
    "                 AND CTE1.column_2 != 'N/A'),\n",
    "CTE3 AS (SELECT DISTINCT *\n",
    "                  FROM table_2),\n",
    "CTE4 AS (SELECT column_3, COUNT(*) AS count_1\n",
    "                 FROM CTE3\n",
    "                 GROUP BY column_3),\n",
    "CTE5 AS (SELECT table_3.column_3, table_3.column_1, COALESCE(CTE4.count_1, 0) AS count_2\n",
    "                 FROM table_3 LEFT JOIN CTE4 ON table_3.column_3 = CTE4.column_3),\n",
    "CTE6 AS (SELECT column_1, SUM(count_2) AS count_3\n",
    "                 FROM CTE5\n",
    "                 GROUP BY column_1),\n",
    "CTE7 AS (SELECT CTE2.column_1, CTE2.column_4, CTE2.column_5, COALESCE(CTE6.count_3, 0) AS count_final \n",
    "                 FROM CTE2 LEFT JOIN CTE6 ON CTE2.column_1 = CTE6.column_1\n",
    "                 WHERE CTE2.column_6 = 0 OR CTE2.column_6 IS NULL)\n",
    "SELECT\n",
    "    YEAR(column_4) AS Year,\n",
    "    MONTH(column_5) AS Month,\n",
    "    COUNT(*),\n",
    "    AVG(count_final),\n",
    "    SUM(CASE WHEN column_5 = value_1 THEN 1 ELSE 0 END) / COUNT(*) AS PCT_1,\n",
    "    SUM(CASE WHEN column_5 = value_2 THEN 1 ELSE 0 END) / COUNT(*) AS PCT_2, \n",
    "    SUM(CASE WHEN column_5 = value_3 THEN 1 ELSE 0 END) / COUNT(*) AS PCT_3,\n",
    "    SUM(CASE WHEN column_5 = value_4 THEN 1 ELSE 0 END) / COUNT(*) AS PCT_4,\n",
    "    SUM(CASE WHEN column_5 = value_5 THEN 1 ELSE 0 END) / COUNT(*) AS PCT_5\n",
    "FROM CTE7\n",
    "GROUP BY Year, Month\n",
    "ORDER BY Year, Month;"
   ]
  },
  {
   "cell_type": "code",
   "execution_count": null,
   "metadata": {},
   "outputs": [],
   "source": [
    "# Check whether the services we provide are flawed by looking at the number of each type of service completed under different customer type\n",
    "%%sql\n",
    "WITH\n",
    "CTE1 AS (SELECT DISTINCT *\n",
    "                 FROM table_2),\n",
    "CTE2 AS (SELECT CTE1.column_7, CTE1.column_8, table_3.*\n",
    "                 FROM CTE1 LEFT JOIN table_3\n",
    "                     ON CTE1.column_3 = table_3.column_3),\n",
    "CTE3 AS (SELECT DISTINCT *\n",
    "                 FROM table_1),\n",
    "CTE4 AS (SELECT CTE3.*\n",
    "                 FROM CTE3 LEFT JOIN (SELECT column_1, COUNT(*) FROM CTE3 GROUP BY column_1 HAVING COUNT(*) > 1) AS SubQ1\n",
    "                     ON CTE3.column_1 = SubQ1.column_1\n",
    "                 WHERE SubQ1.column_1 IS NULL\n",
    "                     OR SubQ1.column_1 IS NOT NULL\n",
    "                     AND column_2 != 'N/A')\n",
    "SELECT column_7, column_8, COUNT(*)\n",
    "FROM CTE2 LEFT JOIN CTE4\n",
    "    ON CTE2.column_1 = CTE4.column_1\n",
    "WHERE CTE4.column_5 = 4\n",
    "    AND CTE4.column_9 = 1\n",
    "GROUP BY column_7, column_8;"
   ]
  },
  {
   "cell_type": "code",
   "execution_count": null,
   "metadata": {},
   "outputs": [],
   "source": [
    "# Segment customers to verify if certain customer group characteristics lead to different service demand\n",
    "%%sql\n",
    "WITH \n",
    "CTE1 AS (SELECT DISTINCT *\n",
    "                 FROM table_2),\n",
    "CTE2 AS (SELECT table_3.*\n",
    "                 FROM CTE1 LEFT JOIN table_3\n",
    "                     ON CTE1.column_3 = table_3.column_3\n",
    "                 WHERE table_3.column_6 = 0\n",
    "                     OR table_3.column_6 IS NULL),\n",
    "CTE3 AS (SELECT column_1, column_3, COUNT(*) AS count_1\n",
    "                 FROM CTE2\n",
    "                 GROUP BY column_1, column_3),\n",
    "CTE4 AS (SELECT DISTINCT *\n",
    "                 FROM table_1),\n",
    "CTE5 AS (SELECT CTE4.*\n",
    "                 FROM CTE4 LEFT JOIN\n",
    "                     (SELECT column_1, COUNT(*)\n",
    "                     FROM CTE4\n",
    "                     GROUP BY column_1\n",
    "                     HAVING COUNT(*) > 1) AS SubQ1\n",
    "                 ON CTE4.column_1 = SubQ1.column_1\n",
    "                 WHERE SubQ1.column_1 IS NULL\n",
    "                     OR SubQ1.column_1 IS NOT NULL\n",
    "                     AND column_2 != 'N/A'),\n",
    "CTE6 AS (SELECT CTE5.column_1, COALESCE(CTE3.count_1, 0) AS count_final\n",
    "                 FROM CTE5 LEFT JOIN CTE3 ON CTE5.column_1 = CTE3.column_1 \n",
    "                WHERE CTE5.column_6 = 0\n",
    "                     OR CTE5.column_6 IS NULL\n",
    "                GROUP BY CTE3.column_1)\n",
    "SELECT CASE \n",
    "    WHEN count_final = 0 THEN '1. 0 group'\n",
    "    WHEN count_final < 4 AND total_test_final > 0 THEN '2. > 0 & < 4 group'\n",
    "    WHEN count_final = 4 THEN '3. = 4 group'\n",
    "    WHEN count_final > 4 AND total_test_final < 20 THEN '4. > 4 & < 20 group'\n",
    "    END AS group_name,\n",
    "AVG(count_final)\n",
    "FROM CTE6\n",
    "GROUP BY group_name;"
   ]
  }
 ],
 "metadata": {
  "kernelspec": {
   "display_name": "Python 3",
   "language": "python",
   "name": "python3"
  },
  "language_info": {
   "codemirror_mode": {
    "name": "ipython",
    "version": 3
   },
   "file_extension": ".py",
   "mimetype": "text/x-python",
   "name": "python",
   "nbconvert_exporter": "python",
   "pygments_lexer": "ipython3",
   "version": "3.8.3"
  }
 },
 "nbformat": 4,
 "nbformat_minor": 4
}
